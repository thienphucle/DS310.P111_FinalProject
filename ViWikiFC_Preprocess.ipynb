{
 "cells": [
  {
   "cell_type": "markdown",
   "metadata": {},
   "source": [
    "# **Data preprocessing for ViWikiFC**"
   ]
  },
  {
   "cell_type": "markdown",
   "metadata": {},
   "source": [
    "## 1. Loading the Dataset"
   ]
  },
  {
   "cell_type": "code",
   "execution_count": 2,
   "metadata": {},
   "outputs": [],
   "source": [
    "import pandas as pd\n",
    "import numpy as np\n",
    "import matplotlib.pyplot as plt\n",
    "import seaborn as sns"
   ]
  },
  {
   "cell_type": "code",
   "execution_count": 3,
   "metadata": {},
   "outputs": [],
   "source": [
    "pd.set_option('display.max_columns', None)\n",
    "pd.set_option('display.width', None)"
   ]
  },
  {
   "cell_type": "markdown",
   "metadata": {},
   "source": [
    "* Bộ dữ liệu ViWikiFC gồm 20919 sample và 9 feature\n",
    "* Bộ dữ liệu ViWikiFC được chia thành các subset theo tỉ lệ 8:1:1 bao gồm train_data, dev_data, test_data"
   ]
  },
  {
   "cell_type": "code",
   "execution_count": 4,
   "metadata": {},
   "outputs": [],
   "source": [
    "train_data = pd.read_csv('C:\\\\Users\\\\ngmai\\\\Downloads\\\\ViWikiFC\\\\train_final_viwikifc.csv')\n",
    "dev_data = pd.read_csv('C:\\\\Users\\\\ngmai\\\\Downloads\\\\ViWikiFC\\\\dev_final_viwikifc.csv')\n",
    "test_data = pd.read_csv('C:\\\\Users\\\\ngmai\\\\Downloads\\\\ViWikiFC\\\\test_final_viwikifc.csv')"
   ]
  },
  {
   "cell_type": "code",
   "execution_count": null,
   "metadata": {},
   "outputs": [],
   "source": [
    "train_data"
   ]
  },
  {
   "cell_type": "code",
   "execution_count": null,
   "metadata": {},
   "outputs": [],
   "source": [
    "dev_data"
   ]
  },
  {
   "cell_type": "code",
   "execution_count": null,
   "metadata": {},
   "outputs": [],
   "source": [
    "test_data"
   ]
  },
  {
   "cell_type": "code",
   "execution_count": 7,
   "metadata": {},
   "outputs": [
    {
     "data": {
      "text/html": [
       "<div>\n",
       "<style scoped>\n",
       "    .dataframe tbody tr th:only-of-type {\n",
       "        vertical-align: middle;\n",
       "    }\n",
       "\n",
       "    .dataframe tbody tr th {\n",
       "        vertical-align: top;\n",
       "    }\n",
       "\n",
       "    .dataframe thead th {\n",
       "        text-align: right;\n",
       "    }\n",
       "</style>\n",
       "<table border=\"1\" class=\"dataframe\">\n",
       "  <thead>\n",
       "    <tr style=\"text-align: right;\">\n",
       "      <th></th>\n",
       "      <th>pairID</th>\n",
       "      <th>evidence</th>\n",
       "      <th>gold_label</th>\n",
       "      <th>link</th>\n",
       "      <th>context</th>\n",
       "      <th>sentenceID</th>\n",
       "      <th>claim</th>\n",
       "      <th>annotator_labels</th>\n",
       "      <th>title</th>\n",
       "    </tr>\n",
       "  </thead>\n",
       "  <tbody>\n",
       "    <tr>\n",
       "      <th>0</th>\n",
       "      <td>uit_424_27_39_3_11</td>\n",
       "      <td>Chế độ quân chủ chuyên chế đã tỏ ra quá già cỗ...</td>\n",
       "      <td>Supports</td>\n",
       "      <td>https://vi.wikipedia.org/Trung Quốc</td>\n",
       "      <td>Cuối thời nhà Thanh, do sự lạc hậu về khoa học...</td>\n",
       "      <td>uit_424_27_39_3</td>\n",
       "      <td>Chế độ quân chủ chuyên chế của nhà Thanh đã tỏ...</td>\n",
       "      <td>['Support']</td>\n",
       "      <td>Trung Quốc</td>\n",
       "    </tr>\n",
       "    <tr>\n",
       "      <th>1</th>\n",
       "      <td>uit_817_41_89_5_11</td>\n",
       "      <td>Một cuộc đảo chính lật đổ nền quân chủ và thàn...</td>\n",
       "      <td>Supports</td>\n",
       "      <td>https://vi.wikipedia.org/thế kỷ XX</td>\n",
       "      <td>1962: Khủng hoảng tên lửa Cuba. Algérie giành ...</td>\n",
       "      <td>uit_817_41_89_5</td>\n",
       "      <td>Đảo chính và lập ra chính quyền Cộng hòa Ả Rập...</td>\n",
       "      <td>['Support']</td>\n",
       "      <td>thế kỷ XX</td>\n",
       "    </tr>\n",
       "    <tr>\n",
       "      <th>2</th>\n",
       "      <td>uit_854_44_98_3_12</td>\n",
       "      <td>Năm 1956, sau khi Pháp hoàn tất rút quân khỏi ...</td>\n",
       "      <td>Supports</td>\n",
       "      <td>https://vi.wikipedia.org/quần đảo Hoàng Sa</td>\n",
       "      <td>Năm 1954 - Hiệp định Genève quy định lấy vĩ tu...</td>\n",
       "      <td>uit_854_44_98_3</td>\n",
       "      <td>Năm 1956, sau khi Pháp rút quân khỏi Việt Nam,...</td>\n",
       "      <td>['Support']</td>\n",
       "      <td>quần đảo Hoàng Sa</td>\n",
       "    </tr>\n",
       "    <tr>\n",
       "      <th>3</th>\n",
       "      <td>uit_948_53_29_11_12</td>\n",
       "      <td>Các hải tặc người Mã Lai và Dayak Biển từ hang...</td>\n",
       "      <td>Supports</td>\n",
       "      <td>https://vi.wikipedia.org/Borneo</td>\n",
       "      <td>Từ khi Malacca thất thủ vào năm 1511, các thươ...</td>\n",
       "      <td>uit_948_53_29_11</td>\n",
       "      <td>Các tàu biển trên cuộc hành trình giữa Singapo...</td>\n",
       "      <td>['Support']</td>\n",
       "      <td>Borneo</td>\n",
       "    </tr>\n",
       "    <tr>\n",
       "      <th>4</th>\n",
       "      <td>uit_65_5_1_4_11</td>\n",
       "      <td>Singapore là quốc gia có mức độ đô thị hóa rất...</td>\n",
       "      <td>Supports</td>\n",
       "      <td>https://vi.wikipedia.org/Singapore</td>\n",
       "      <td>Singapore (phát âm: “Xin-ga-po” hoặc “Xinh-ga-...</td>\n",
       "      <td>uit_65_5_1_4</td>\n",
       "      <td>Singapore là một quốc gia mà ở đó có mức đô th...</td>\n",
       "      <td>['Support']</td>\n",
       "      <td>Singapore</td>\n",
       "    </tr>\n",
       "    <tr>\n",
       "      <th>5</th>\n",
       "      <td>uit_491_30_22_4_11</td>\n",
       "      <td>Tuy nhiên, đến Tây Bình quận thì Ni Lặc Chu bị...</td>\n",
       "      <td>Supports</td>\n",
       "      <td>https://vi.wikipedia.org/con đường tơ lụa</td>\n",
       "      <td>Năm 609, Mộ Dung Phục Doãn đã dẫn quân thoát r...</td>\n",
       "      <td>uit_491_30_22_4</td>\n",
       "      <td>Mộ Dung Thuận không thể tiếp tục theo kế hoạch...</td>\n",
       "      <td>['Support']</td>\n",
       "      <td>con đường tơ lụa</td>\n",
       "    </tr>\n",
       "    <tr>\n",
       "      <th>6</th>\n",
       "      <td>uit_264_18_26_1_12</td>\n",
       "      <td>Do tổ chức xã hội Việt Nam căn bản dựa trên xã...</td>\n",
       "      <td>Supports</td>\n",
       "      <td>https://vi.wikipedia.org/Nhà Nguyễn</td>\n",
       "      <td>Do tổ chức xã hội Việt Nam căn bản dựa trên xã...</td>\n",
       "      <td>uit_264_18_26_1</td>\n",
       "      <td>Làng tự phân chia trách nhiệm thuế má, sưu dịc...</td>\n",
       "      <td>['Support']</td>\n",
       "      <td>Nhà Nguyễn</td>\n",
       "    </tr>\n",
       "    <tr>\n",
       "      <th>7</th>\n",
       "      <td>uit_108_5_127_1_11</td>\n",
       "      <td>Singapore có nhiều loại phương tiện giao thông...</td>\n",
       "      <td>Supports</td>\n",
       "      <td>https://vi.wikipedia.org/Singapore</td>\n",
       "      <td>Singapore có nhiều loại phương tiện giao thông...</td>\n",
       "      <td>uit_108_5_127_1</td>\n",
       "      <td>Tuy Singapore có rất nhiều loại phương tiện gi...</td>\n",
       "      <td>['Support']</td>\n",
       "      <td>Singapore</td>\n",
       "    </tr>\n",
       "    <tr>\n",
       "      <th>8</th>\n",
       "      <td>uit_66_5_4_1_11</td>\n",
       "      <td>Singapore là một trong những trung tâm thương ...</td>\n",
       "      <td>Supports</td>\n",
       "      <td>https://vi.wikipedia.org/Singapore</td>\n",
       "      <td>Singapore là một trong những trung tâm thương ...</td>\n",
       "      <td>uit_66_5_4_1</td>\n",
       "      <td>Trung tâm tài chính ở Singapore bé hơn 3 trung...</td>\n",
       "      <td>['Support']</td>\n",
       "      <td>Singapore</td>\n",
       "    </tr>\n",
       "    <tr>\n",
       "      <th>9</th>\n",
       "      <td>uit_125_9_14_2_11</td>\n",
       "      <td>Phần mộ của ông hiện ở tại thôn Mai Trai, xã V...</td>\n",
       "      <td>Supports</td>\n",
       "      <td>https://vi.wikipedia.org/Phan Huy Chú</td>\n",
       "      <td>Phan Huy Chú mất ngày 27 tháng 4 năm Canh Tý (...</td>\n",
       "      <td>uit_125_9_14_2</td>\n",
       "      <td>Sau khi ông mất, gia đình đã an tán phần mộ củ...</td>\n",
       "      <td>['Support']</td>\n",
       "      <td>Phan Huy Chú</td>\n",
       "    </tr>\n",
       "  </tbody>\n",
       "</table>\n",
       "</div>"
      ],
      "text/plain": [
       "                pairID                                           evidence  \\\n",
       "0   uit_424_27_39_3_11  Chế độ quân chủ chuyên chế đã tỏ ra quá già cỗ...   \n",
       "1   uit_817_41_89_5_11  Một cuộc đảo chính lật đổ nền quân chủ và thàn...   \n",
       "2   uit_854_44_98_3_12  Năm 1956, sau khi Pháp hoàn tất rút quân khỏi ...   \n",
       "3  uit_948_53_29_11_12  Các hải tặc người Mã Lai và Dayak Biển từ hang...   \n",
       "4      uit_65_5_1_4_11  Singapore là quốc gia có mức độ đô thị hóa rất...   \n",
       "5   uit_491_30_22_4_11  Tuy nhiên, đến Tây Bình quận thì Ni Lặc Chu bị...   \n",
       "6   uit_264_18_26_1_12  Do tổ chức xã hội Việt Nam căn bản dựa trên xã...   \n",
       "7   uit_108_5_127_1_11  Singapore có nhiều loại phương tiện giao thông...   \n",
       "8      uit_66_5_4_1_11  Singapore là một trong những trung tâm thương ...   \n",
       "9    uit_125_9_14_2_11  Phần mộ của ông hiện ở tại thôn Mai Trai, xã V...   \n",
       "\n",
       "  gold_label                                        link  \\\n",
       "0   Supports         https://vi.wikipedia.org/Trung Quốc   \n",
       "1   Supports          https://vi.wikipedia.org/thế kỷ XX   \n",
       "2   Supports  https://vi.wikipedia.org/quần đảo Hoàng Sa   \n",
       "3   Supports             https://vi.wikipedia.org/Borneo   \n",
       "4   Supports          https://vi.wikipedia.org/Singapore   \n",
       "5   Supports   https://vi.wikipedia.org/con đường tơ lụa   \n",
       "6   Supports         https://vi.wikipedia.org/Nhà Nguyễn   \n",
       "7   Supports          https://vi.wikipedia.org/Singapore   \n",
       "8   Supports          https://vi.wikipedia.org/Singapore   \n",
       "9   Supports       https://vi.wikipedia.org/Phan Huy Chú   \n",
       "\n",
       "                                             context        sentenceID  \\\n",
       "0  Cuối thời nhà Thanh, do sự lạc hậu về khoa học...   uit_424_27_39_3   \n",
       "1  1962: Khủng hoảng tên lửa Cuba. Algérie giành ...   uit_817_41_89_5   \n",
       "2  Năm 1954 - Hiệp định Genève quy định lấy vĩ tu...   uit_854_44_98_3   \n",
       "3  Từ khi Malacca thất thủ vào năm 1511, các thươ...  uit_948_53_29_11   \n",
       "4  Singapore (phát âm: “Xin-ga-po” hoặc “Xinh-ga-...      uit_65_5_1_4   \n",
       "5  Năm 609, Mộ Dung Phục Doãn đã dẫn quân thoát r...   uit_491_30_22_4   \n",
       "6  Do tổ chức xã hội Việt Nam căn bản dựa trên xã...   uit_264_18_26_1   \n",
       "7  Singapore có nhiều loại phương tiện giao thông...   uit_108_5_127_1   \n",
       "8  Singapore là một trong những trung tâm thương ...      uit_66_5_4_1   \n",
       "9  Phan Huy Chú mất ngày 27 tháng 4 năm Canh Tý (...    uit_125_9_14_2   \n",
       "\n",
       "                                               claim annotator_labels  \\\n",
       "0  Chế độ quân chủ chuyên chế của nhà Thanh đã tỏ...      ['Support']   \n",
       "1  Đảo chính và lập ra chính quyền Cộng hòa Ả Rập...      ['Support']   \n",
       "2  Năm 1956, sau khi Pháp rút quân khỏi Việt Nam,...      ['Support']   \n",
       "3  Các tàu biển trên cuộc hành trình giữa Singapo...      ['Support']   \n",
       "4  Singapore là một quốc gia mà ở đó có mức đô th...      ['Support']   \n",
       "5  Mộ Dung Thuận không thể tiếp tục theo kế hoạch...      ['Support']   \n",
       "6  Làng tự phân chia trách nhiệm thuế má, sưu dịc...      ['Support']   \n",
       "7  Tuy Singapore có rất nhiều loại phương tiện gi...      ['Support']   \n",
       "8  Trung tâm tài chính ở Singapore bé hơn 3 trung...      ['Support']   \n",
       "9  Sau khi ông mất, gia đình đã an tán phần mộ củ...      ['Support']   \n",
       "\n",
       "               title  \n",
       "0         Trung Quốc  \n",
       "1          thế kỷ XX  \n",
       "2  quần đảo Hoàng Sa  \n",
       "3             Borneo  \n",
       "4          Singapore  \n",
       "5   con đường tơ lụa  \n",
       "6         Nhà Nguyễn  \n",
       "7          Singapore  \n",
       "8          Singapore  \n",
       "9       Phan Huy Chú  "
      ]
     },
     "execution_count": 7,
     "metadata": {},
     "output_type": "execute_result"
    }
   ],
   "source": [
    "data = pd.concat([train_data, dev_data, test_data], ignore_index=True)\n",
    "data.head(10)"
   ]
  },
  {
   "cell_type": "code",
   "execution_count": 8,
   "metadata": {},
   "outputs": [
    {
     "data": {
      "text/plain": [
       "(20919, 9)"
      ]
     },
     "execution_count": 8,
     "metadata": {},
     "output_type": "execute_result"
    }
   ],
   "source": [
    "data.shape"
   ]
  },
  {
   "cell_type": "code",
   "execution_count": 9,
   "metadata": {},
   "outputs": [
    {
     "name": "stdout",
     "output_type": "stream",
     "text": [
      "<class 'pandas.core.frame.DataFrame'>\n",
      "RangeIndex: 20919 entries, 0 to 20918\n",
      "Data columns (total 9 columns):\n",
      " #   Column            Non-Null Count  Dtype \n",
      "---  ------            --------------  ----- \n",
      " 0   pairID            20919 non-null  object\n",
      " 1   evidence          20919 non-null  object\n",
      " 2   gold_label        20919 non-null  object\n",
      " 3   link              20919 non-null  object\n",
      " 4   context           20919 non-null  object\n",
      " 5   sentenceID        20919 non-null  object\n",
      " 6   claim             20919 non-null  object\n",
      " 7   annotator_labels  20919 non-null  object\n",
      " 8   title             20919 non-null  object\n",
      "dtypes: object(9)\n",
      "memory usage: 1.4+ MB\n"
     ]
    }
   ],
   "source": [
    "data.info()"
   ]
  },
  {
   "cell_type": "code",
   "execution_count": 10,
   "metadata": {},
   "outputs": [
    {
     "data": {
      "text/html": [
       "<div>\n",
       "<style scoped>\n",
       "    .dataframe tbody tr th:only-of-type {\n",
       "        vertical-align: middle;\n",
       "    }\n",
       "\n",
       "    .dataframe tbody tr th {\n",
       "        vertical-align: top;\n",
       "    }\n",
       "\n",
       "    .dataframe thead th {\n",
       "        text-align: right;\n",
       "    }\n",
       "</style>\n",
       "<table border=\"1\" class=\"dataframe\">\n",
       "  <thead>\n",
       "    <tr style=\"text-align: right;\">\n",
       "      <th></th>\n",
       "      <th>pairID</th>\n",
       "      <th>evidence</th>\n",
       "      <th>gold_label</th>\n",
       "      <th>link</th>\n",
       "      <th>context</th>\n",
       "      <th>sentenceID</th>\n",
       "      <th>claim</th>\n",
       "      <th>annotator_labels</th>\n",
       "      <th>title</th>\n",
       "    </tr>\n",
       "  </thead>\n",
       "  <tbody>\n",
       "    <tr>\n",
       "      <th>count</th>\n",
       "      <td>20919</td>\n",
       "      <td>20919</td>\n",
       "      <td>20919</td>\n",
       "      <td>20919</td>\n",
       "      <td>20919</td>\n",
       "      <td>20919</td>\n",
       "      <td>20919</td>\n",
       "      <td>20919</td>\n",
       "      <td>20919</td>\n",
       "    </tr>\n",
       "    <tr>\n",
       "      <th>unique</th>\n",
       "      <td>19794</td>\n",
       "      <td>3814</td>\n",
       "      <td>3</td>\n",
       "      <td>73</td>\n",
       "      <td>1481</td>\n",
       "      <td>3851</td>\n",
       "      <td>20827</td>\n",
       "      <td>3</td>\n",
       "      <td>73</td>\n",
       "    </tr>\n",
       "    <tr>\n",
       "      <th>top</th>\n",
       "      <td>uit_4_1_8_1_32</td>\n",
       "      <td>Thời kỳ Bắc thuộc cuối cùng kết thúc sau chiến...</td>\n",
       "      <td>Not_Enough_Information</td>\n",
       "      <td>https://vi.wikipedia.org/Trung Quốc</td>\n",
       "      <td>Đến thời kỳ cận đại, Việt Nam lần lượt trải qu...</td>\n",
       "      <td>uit_4_1_4_3</td>\n",
       "      <td>Chế độ quân chủ độc lập được tái lập sau chiến...</td>\n",
       "      <td>['NEI']</td>\n",
       "      <td>Trung Quốc</td>\n",
       "    </tr>\n",
       "    <tr>\n",
       "      <th>freq</th>\n",
       "      <td>7</td>\n",
       "      <td>42</td>\n",
       "      <td>6978</td>\n",
       "      <td>1767</td>\n",
       "      <td>374</td>\n",
       "      <td>42</td>\n",
       "      <td>5</td>\n",
       "      <td>6978</td>\n",
       "      <td>1767</td>\n",
       "    </tr>\n",
       "  </tbody>\n",
       "</table>\n",
       "</div>"
      ],
      "text/plain": [
       "                pairID                                           evidence  \\\n",
       "count            20919                                              20919   \n",
       "unique           19794                                               3814   \n",
       "top     uit_4_1_8_1_32  Thời kỳ Bắc thuộc cuối cùng kết thúc sau chiến...   \n",
       "freq                 7                                                 42   \n",
       "\n",
       "                    gold_label                                 link  \\\n",
       "count                    20919                                20919   \n",
       "unique                       3                                   73   \n",
       "top     Not_Enough_Information  https://vi.wikipedia.org/Trung Quốc   \n",
       "freq                      6978                                 1767   \n",
       "\n",
       "                                                  context   sentenceID  \\\n",
       "count                                               20919        20919   \n",
       "unique                                               1481         3851   \n",
       "top     Đến thời kỳ cận đại, Việt Nam lần lượt trải qu...  uit_4_1_4_3   \n",
       "freq                                                  374           42   \n",
       "\n",
       "                                                    claim annotator_labels  \\\n",
       "count                                               20919            20919   \n",
       "unique                                              20827                3   \n",
       "top     Chế độ quân chủ độc lập được tái lập sau chiến...          ['NEI']   \n",
       "freq                                                    5             6978   \n",
       "\n",
       "             title  \n",
       "count        20919  \n",
       "unique          73  \n",
       "top     Trung Quốc  \n",
       "freq          1767  "
      ]
     },
     "execution_count": 10,
     "metadata": {},
     "output_type": "execute_result"
    }
   ],
   "source": [
    "data.describe()"
   ]
  },
  {
   "cell_type": "code",
   "execution_count": 11,
   "metadata": {},
   "outputs": [
    {
     "data": {
      "text/plain": [
       "pairID              0\n",
       "evidence            0\n",
       "gold_label          0\n",
       "link                0\n",
       "context             0\n",
       "sentenceID          0\n",
       "claim               0\n",
       "annotator_labels    0\n",
       "title               0\n",
       "dtype: int64"
      ]
     },
     "execution_count": 11,
     "metadata": {},
     "output_type": "execute_result"
    }
   ],
   "source": [
    "data.isnull().sum()"
   ]
  },
  {
   "cell_type": "markdown",
   "metadata": {},
   "source": [
    "### Text Cleaning"
   ]
  },
  {
   "cell_type": "markdown",
   "metadata": {},
   "source": [
    "Next, clean the text data by:\n",
    "<ol>\n",
    "    <li>Converting text to lowercase</li>\n",
    "    <li>Removing special characters and punctuation</li>\n",
    "    <li>Removing stopwords (if required for your model)</li>\n",
    "    <li>Lemmatization (to reduce words to their root form)</li>\n",
    "</ol>"
   ]
  },
  {
   "cell_type": "markdown",
   "metadata": {},
   "source": [
    "### Convert Text to Lowercase"
   ]
  },
  {
   "cell_type": "code",
   "execution_count": 12,
   "metadata": {},
   "outputs": [],
   "source": [
    "data['claim'] = data['claim'].str.lower()\n",
    "data['evidence'] = data['evidence'].str.lower()"
   ]
  },
  {
   "cell_type": "markdown",
   "metadata": {},
   "source": [
    "### Remove Special Characters and Punctuation"
   ]
  },
  {
   "cell_type": "code",
   "execution_count": 13,
   "metadata": {},
   "outputs": [],
   "source": [
    "import re\n",
    "\n",
    "def clean_text(text):\n",
    "    text = re.sub(r'[^a-z\\s]', '', text)  # Keep only letters and spaces\n",
    "    return text\n",
    "\n",
    "data['claim'] = data['claim'].apply(clean_text)\n",
    "data['evidence'] = data['evidence'].apply(clean_text)"
   ]
  },
  {
   "cell_type": "markdown",
   "metadata": {},
   "source": [
    "### Remove Stopwords"
   ]
  },
  {
   "cell_type": "code",
   "execution_count": 14,
   "metadata": {},
   "outputs": [],
   "source": [
    "from nltk.corpus import stopwords\n",
    "stop_words = set(stopwords.words('english'))\n",
    "\n",
    "def remove_stopwords(text):\n",
    "    return ' '.join([word for word in text.split() if word not in stop_words])\n",
    "\n",
    "data['claim'] = data['claim'].apply(remove_stopwords)\n",
    "data['evidence'] = data['evidence'].apply(remove_stopwords)"
   ]
  },
  {
   "cell_type": "markdown",
   "metadata": {},
   "source": [
    "### Lemmatization"
   ]
  },
  {
   "cell_type": "code",
   "execution_count": null,
   "metadata": {},
   "outputs": [],
   "source": [
    "from nltk.stem import WordNetLemmatizer\n",
    "\n",
    "lemmatizer = WordNetLemmatizer()\n",
    "\n",
    "def lemmatize_text(text):\n",
    "    return ' '.join([lemmatizer.lemmatize(word) for word in text.split()])\n",
    "\n",
    "data['claim'] = data['claim'].apply(lemmatize_text)\n",
    "data['evidence'] = data['evidence'].apply(lemmatize_text)"
   ]
  },
  {
   "cell_type": "markdown",
   "metadata": {},
   "source": [
    "Handling Labels (gold_label)"
   ]
  },
  {
   "cell_type": "code",
   "execution_count": 16,
   "metadata": {},
   "outputs": [],
   "source": [
    "from sklearn.preprocessing import LabelEncoder\n",
    "\n",
    "label_encoder = LabelEncoder()\n",
    "data['gold_label'] = label_encoder.fit_transform(data['gold_label'])\n",
    "data = pd.get_dummies(data, columns=['gold_label'], drop_first=True)"
   ]
  },
  {
   "cell_type": "markdown",
   "metadata": {},
   "source": [
    "### Tokenization"
   ]
  },
  {
   "cell_type": "code",
   "execution_count": 17,
   "metadata": {},
   "outputs": [],
   "source": [
    "from nltk.tokenize import word_tokenize\n",
    "\n",
    "data['claim_tokens'] = data['claim'].apply(word_tokenize)\n",
    "data['evidence_tokens'] = data['evidence'].apply(word_tokenize)"
   ]
  },
  {
   "cell_type": "markdown",
   "metadata": {},
   "source": [
    "### Vectorization"
   ]
  },
  {
   "cell_type": "markdown",
   "metadata": {},
   "source": [
    "TF-IDF Vectorization"
   ]
  },
  {
   "cell_type": "code",
   "execution_count": 18,
   "metadata": {},
   "outputs": [],
   "source": [
    "from sklearn.feature_extraction.text import TfidfVectorizer\n",
    "\n",
    "vectorizer_claim = TfidfVectorizer(max_features=5000)\n",
    "X_claim = vectorizer_claim.fit_transform(data['claim'])\n",
    "\n",
    "vectorizer_evidence = TfidfVectorizer(max_features=5000)\n",
    "X_evidence = vectorizer_evidence.fit_transform(data['evidence'])"
   ]
  },
  {
   "cell_type": "markdown",
   "metadata": {},
   "source": [
    "Using Pre-trained Word Embeddings (e.g., Word2Vec, GloVe)"
   ]
  },
  {
   "cell_type": "code",
   "execution_count": null,
   "metadata": {},
   "outputs": [],
   "source": [
    "import gensim.downloader as api\n",
    "\n",
    "# Load pre-trained Word2Vec model\n",
    "word2vec_model = api.load(\"word2vec-google-news-300\")\n",
    "\n",
    "def vectorize_text(text, model):\n",
    "    words = text.split()\n",
    "    vectors = [model[word] for word in words if word in model]\n",
    "    return np.mean(vectors, axis=0) if vectors else np.zeros(model.vector_size)\n",
    "\n",
    "data['claim_embeddings'] = data['claim'].apply(lambda x: vectorize_text(x, word2vec_model))\n",
    "data['evidence_embeddings'] = data['evidence'].apply(lambda x: vectorize_text(x, word2vec_model))"
   ]
  },
  {
   "cell_type": "markdown",
   "metadata": {},
   "source": [
    "BERT-based Tokenization and Embeddings (Optional)"
   ]
  },
  {
   "cell_type": "code",
   "execution_count": null,
   "metadata": {},
   "outputs": [],
   "source": [
    "from transformers import BertTokenizer, BertModel\n",
    "\n",
    "# Load pre-trained BERT model and tokenizer\n",
    "tokenizer = BertTokenizer.from_pretrained('bert-base-uncased')\n",
    "bert_model = BertModel.from_pretrained('bert-base-uncased')\n",
    "\n",
    "def get_bert_embeddings(text):\n",
    "    inputs = tokenizer(text, return_tensors='pt', padding=True, truncation=True)\n",
    "    outputs = bert_model(**inputs)\n",
    "    return outputs.last_hidden_state.mean(dim=1).detach().numpy()\n",
    "\n",
    "data['claim_embeddings'] = data['claim'].apply(get_bert_embeddings)\n",
    "data['evidence_embeddings'] = data['evidence'].apply(get_bert_embeddings)"
   ]
  },
  {
   "cell_type": "markdown",
   "metadata": {},
   "source": [
    "Train-Test Split"
   ]
  },
  {
   "cell_type": "code",
   "execution_count": null,
   "metadata": {},
   "outputs": [],
   "source": [
    "from sklearn.model_selection import train_test_split\n",
    "\n",
    "X = data[['claim_embeddings', 'evidence_embeddings']]  # Use embeddings or TF-IDF matrices\n",
    "y = data['gold_label']\n",
    "\n",
    "X_train, X_test, y_train, y_test = train_test_split(X, y, test_size=0.3, random_state=42)"
   ]
  }
 ],
 "metadata": {
  "kernelspec": {
   "display_name": "Python 3",
   "language": "python",
   "name": "python3"
  },
  "language_info": {
   "codemirror_mode": {
    "name": "ipython",
    "version": 3
   },
   "file_extension": ".py",
   "mimetype": "text/x-python",
   "name": "python",
   "nbconvert_exporter": "python",
   "pygments_lexer": "ipython3",
   "version": "3.12.2"
  }
 },
 "nbformat": 4,
 "nbformat_minor": 2
}
