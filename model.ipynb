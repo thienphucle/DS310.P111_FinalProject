{
 "cells": [
  {
   "cell_type": "code",
   "execution_count": null,
   "metadata": {},
   "outputs": [],
   "source": [
    "import pandas as pd\n",
    "from transformers import AutoTokenizer, TFAutoModelForCausalLM\n",
    "import torch"
   ]
  },
  {
   "cell_type": "code",
   "execution_count": null,
   "metadata": {},
   "outputs": [],
   "source": [
    "from transformers import TFAutoModelForCausalLM, AutoTokenizer\n",
    "model_name = \"meta-llama/Llama-3.1-8B\"\n",
    "model = TFAutoModelForCausalLM.from_pretrained(model_name, use_auth_token=True)\n",
    "tokenizer = AutoTokenizer.from_pretrained(model_name, use_auth_token=True)"
   ]
  },
  {
   "cell_type": "code",
   "execution_count": null,
   "metadata": {},
   "outputs": [],
   "source": []
  },
  {
   "cell_type": "code",
   "execution_count": null,
   "metadata": {},
   "outputs": [],
   "source": [
    "from transformers import AutoTokenizer, AutoModelForSequenceClassification, Trainer, TrainingArguments\n",
    "\n",
    "# Preprocess the data\n",
    "def preprocess_function(examples):\n",
    "    return tokenizer(examples[\"text\"], truncation=True, padding=\"max_length\")\n",
    "\n",
    "tokenizer = AutoTokenizer.from_pretrained(\"bert-base-vietnamese-cased\")\n",
    "tokenized_dataset = data.map(preprocess_function, batched=True)\n",
    "\n",
    "# Split the dataset into training and validation sets\n",
    "train_dataset, eval_dataset = tokenized_dataset.train_test_split(test_size=0.2)\n",
    "\n",
    "# Load the pre-trained model\n",
    "model = AutoModelForSequenceClassification.from_pretrained(\"bert-base-vietnamese-cased\")\n",
    "\n",
    "# Fine-tune the model\n",
    "training_args = TrainingArguments(\n",
    "    output_dir=\"./results\",\n",
    "    num_train_epochs=3,\n",
    "    per_device_train_batch_size=16,\n",
    "    save_steps=10_000,\n",
    "    save_total_limit=2,\n",
    ")\n",
    "\n",
    "trainer = Trainer(\n",
    "    model=model,\n",
    "    args=training_args,\n",
    "    train_dataset=train_dataset,\n",
    "    eval_dataset=eval_dataset,\n",
    ")\n",
    "\n",
    "trainer.train()"
   ]
  },
  {
   "cell_type": "code",
   "execution_count": null,
   "metadata": {},
   "outputs": [],
   "source": [
    "def processing_evidence(data):\n",
    "    data['evidence_train'] = \"\" \n",
    "    for i in tqdm(range(len(data))):\n",
    "        if data['verdict'][i] == \"NEI\":\n",
    "            data.loc[i, 'evidence_train'] = data['context'][i].split('. ')[0]\n",
    "        else:\n",
    "            data.loc[i, 'evidence_train'] = data['evidence'][i]\n",
    "    return data"
   ]
  },
  {
   "cell_type": "code",
   "execution_count": null,
   "metadata": {},
   "outputs": [],
   "source": [
    "import underthesea\n",
    "from scipy.spatial.distance import cosine\n",
    "import sys\n",
    "import os\n",
    "import re\n",
    "import json\n",
    "import numpy as np\n",
    "\n",
    "def preprocess_text(text: str) -> str:\n",
    "    text = re.sub(r\"['\\\",\\.\\?:\\-!]\", \"\", text)\n",
    "    text = text.strip()\n",
    "    text = \" \".join(text.split())\n",
    "    text = text.lower()\n",
    "    return text\n",
    "\n",
    "def preprocess_text2(text: str) -> str:\n",
    "    text = re.sub(r\"['\\\"\\.]\", \"\", text)\n",
    "    text = text.strip()\n",
    "    text = \" \".join(text.split())\n",
    "    text = text.lower()\n",
    "    return text\n",
    "\n",
    "def move_punctuation_after_quotes(text):\n",
    "    pattern = r'([.?!])(”)'\n",
    "    result = re.sub(pattern, r'\\2\\1', text)\n",
    "    return result\n",
    "\n",
    "def split_context(text):\n",
    "    # text = move_punctuation_after_quotes(text)\n",
    "    punctuation_marks = r'(?\n",
    "\n",
    "def preprocess(text):\n",
    "  text = preprocess_text2(text)\n",
    "  text = move_punctuation_after_quotes(text)\n",
    "\n",
    "  text = str(text)\\\n",
    "    .replace(\";\", \"\").replace(\"“\", \"\") \\\n",
    "    .replace(\":\", \"\").replace(\"”\", \"\") \\\n",
    "    .replace('\"', \"\").replace(\"'\", \"\") \\\n",
    "    .replace(\"!\", \"\").replace(\"?\", \"\") \\\n",
    "    .replace(\"-\", \"\")\n",
    "  text = text.strip().lower()\n",
    "  return text"
   ]
  }
 ],
 "metadata": {
  "kernelspec": {
   "display_name": "preprocess",
   "language": "python",
   "name": "python3"
  },
  "language_info": {
   "name": "python",
   "version": "3.11.9"
  }
 },
 "nbformat": 4,
 "nbformat_minor": 2
}
